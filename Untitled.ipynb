{
 "cells": [
  {
   "cell_type": "code",
   "execution_count": 7,
   "id": "207c3be2-51d3-4ba1-b911-22c40b10bf2e",
   "metadata": {},
   "outputs": [],
   "source": [
    "import graphPlot"
   ]
  },
  {
   "cell_type": "code",
   "execution_count": 14,
   "id": "cae425cd-32bd-4ffb-91d6-300007c7237a",
   "metadata": {},
   "outputs": [
    {
     "ename": "AttributeError",
     "evalue": "module 'graphPlot' has no attribute 'diGraph'",
     "output_type": "error",
     "traceback": [
      "\u001b[31m---------------------------------------------------------------------------\u001b[39m",
      "\u001b[31mAttributeError\u001b[39m                            Traceback (most recent call last)",
      "\u001b[36mCell\u001b[39m\u001b[36m \u001b[39m\u001b[32mIn[14]\u001b[39m\u001b[32m, line 1\u001b[39m\n\u001b[32m----> \u001b[39m\u001b[32m1\u001b[39m \u001b[43mgraphPlot\u001b[49m\u001b[43m.\u001b[49m\u001b[43mdiGraph\u001b[49m\n",
      "\u001b[31mAttributeError\u001b[39m: module 'graphPlot' has no attribute 'diGraph'"
     ]
    }
   ],
   "source": [
    "graphPlot.diGraph"
   ]
  },
  {
   "cell_type": "code",
   "execution_count": 19,
   "id": "498ffd10-06a1-4a08-a3f4-7b3e0ee0ffb0",
   "metadata": {},
   "outputs": [
    {
     "data": {
      "text/plain": [
       "6"
      ]
     },
     "execution_count": 19,
     "metadata": {},
     "output_type": "execute_result"
    }
   ],
   "source": [
    "ord('g') - ord('a')"
   ]
  },
  {
   "cell_type": "code",
   "execution_count": null,
   "id": "df477522-65e6-49c1-9c06-6df27f152c25",
   "metadata": {},
   "outputs": [],
   "source": []
  }
 ],
 "metadata": {
  "kernelspec": {
   "display_name": "Python 3.13",
   "language": "python",
   "name": "python3"
  },
  "language_info": {
   "codemirror_mode": {
    "name": "ipython",
    "version": 3
   },
   "file_extension": ".py",
   "mimetype": "text/x-python",
   "name": "python",
   "nbconvert_exporter": "python",
   "pygments_lexer": "ipython3",
   "version": "3.13.3"
  }
 },
 "nbformat": 4,
 "nbformat_minor": 5
}
